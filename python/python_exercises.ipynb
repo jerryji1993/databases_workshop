{
 "cells": [
  {
   "cell_type": "markdown",
   "metadata": {},
   "source": [
    "# Exercises: Connecting to PostgreSQL with Python\n",
    "\n",
    "There may be other ways to solve these exercises.  They are aimed at getting you to think about the interplay between Python and a SQL database -- not reviewing the basic syntax of calling a database from Python.  So they'll require some thought and possibly a little more research/reading.  Try them with a partner or group."
   ]
  },
  {
   "cell_type": "code",
   "execution_count": null,
   "metadata": {
    "collapsed": true
   },
   "outputs": [],
   "source": [
    "import psycopg2"
   ]
  },
  {
   "cell_type": "markdown",
   "metadata": {},
   "source": [
    "## Exercise: Create and Populate Tables\n",
    "\n",
    "Connect to a database where you have permission to create tables.\n",
    "\n",
    "Create three tables with appropriate columns:\n",
    "\n",
    "* `person`: at least an ID and name, maybe other characteristics of a person\n",
    "* `relationship`: links people together and labels it with a relationship type\n",
    "* `relationship_type`: a table defining the allowed set of relationship types in the `relationship` table\n",
    "\n",
    "Populate the tables with information about your friends and/or family.  Hint: think about how you want to handle IDs for people so that you can use them in the relationship table.  Hint 2: think about how to make it clear in the relationship table what the direction of the relationship is (e.g. who is the child and who is the parent?).\n",
    "\n",
    "Print out sentences describing the family relationships."
   ]
  },
  {
   "cell_type": "markdown",
   "metadata": {},
   "source": [
    "## Exercise: Selecting Random Data\n",
    "\n",
    "One thing that isn't easy to do with SQL is selecting random rows.  There are functions to generate random values, but generating a new random column on a large table, and then sorting by that column (or computing the max value and then selecting an observation) is costly.  This is one scenario when working with a database from Python is useful.\n",
    "\n",
    "Use the code below to create a table in the database.  Then figure out how to select 3 random rows from that table (as if you didn't have access to the code or values that created the table).  Do this without reading the entire table into Python.  Hint: you'll probably want to use some combination of sorting the table, limiting the number of rows you retrieve, and offsetting results (for a refresher, learn more [here](http://www.postgresqltutorial.com/postgresql-limit/) or [here](https://www.tutorialspoint.com/postgresql/postgresql_limit_clause.htm))."
   ]
  },
  {
   "cell_type": "code",
   "execution_count": null,
   "metadata": {},
   "outputs": [],
   "source": [
    "import string\n",
    "import random\n",
    "\n",
    "ids = random.sample(list(range(1000)), 100)\n",
    "\n",
    "conn = psycopg2.connect(dbname=\"\", host=\"\", user=\"\", password=\"\") ## connect to a database where you can write\n",
    "cur = conn.cursor()\n",
    "cur.execute(\"\"\"create table patient (\n",
    "                id int primary key,\n",
    "                name text not null);\"\"\")\n",
    "for i in ids:\n",
    "    cur.execute(\"insert into patient values (%s, %s)\", (i, ''.join(random.sample(string.ascii_letters, 5))))\n",
    "conn.commit()\n",
    "cur.close()\n",
    "conn.close()"
   ]
  }
 ],
 "metadata": {
  "kernelspec": {
   "display_name": "Python 3 (conda p3)",
   "language": "python",
   "name": "p3"
  },
  "language_info": {
   "codemirror_mode": {
    "name": "ipython",
    "version": 3
   },
   "file_extension": ".py",
   "mimetype": "text/x-python",
   "name": "python",
   "nbconvert_exporter": "python",
   "pygments_lexer": "ipython3",
   "version": "3.6.8"
  }
 },
 "nbformat": 4,
 "nbformat_minor": 2
}
